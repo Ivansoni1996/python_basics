{
 "cells": [
  {
   "cell_type": "code",
   "execution_count": 6,
   "id": "573a379f-b257-4682-8a91-1541170dfb0e",
   "metadata": {},
   "outputs": [],
   "source": [
    "class Domino():\n",
    "    def __init__(self,A,B):\n",
    "        self.A=A\n",
    "        self.B=B\n",
    "    def affiche_points(self):\n",
    "        return f'face A:{self.A} face B: {self.B}'\n",
    "    def valeur(self):\n",
    "        valeur=self.A+self.B\n",
    "        return valeur"
   ]
  },
  {
   "cell_type": "code",
   "execution_count": 7,
   "id": "23822c3a",
   "metadata": {},
   "outputs": [],
   "source": [
    "d1=Domino(2,6)\n",
    "d2=Domino(4,3)"
   ]
  },
  {
   "cell_type": "code",
   "execution_count": null,
   "id": "f0544d8c",
   "metadata": {},
   "outputs": [
    {
     "data": {
      "text/plain": [
       "'face A:4 face B: 3'"
      ]
     },
     "execution_count": 9,
     "metadata": {},
     "output_type": "execute_result"
    }
   ],
   "source": [
    "d1.affiche_points()"
   ]
  },
  {
   "cell_type": "code",
   "execution_count": 10,
   "id": "ba7ef058",
   "metadata": {},
   "outputs": [
    {
     "data": {
      "text/plain": [
       "'face A:4 face B: 3'"
      ]
     },
     "execution_count": 10,
     "metadata": {},
     "output_type": "execute_result"
    }
   ],
   "source": [
    "d2.affiche_points()"
   ]
  },
  {
   "cell_type": "code",
   "execution_count": 11,
   "id": "1f62db10",
   "metadata": {},
   "outputs": [
    {
     "name": "stdout",
     "output_type": "stream",
     "text": [
      "total des point:15\n"
     ]
    }
   ],
   "source": [
    "print (f'total des point:{d1.valeur()+d2.valeur()}')"
   ]
  },
  {
   "cell_type": "code",
   "execution_count": 13,
   "id": "9a760c60",
   "metadata": {},
   "outputs": [
    {
     "name": "stdout",
     "output_type": "stream",
     "text": [
      "['face A:6 face B: 0', 'face A:6 face B: 1', 'face A:6 face B: 2', 'face A:6 face B: 3', 'face A:6 face B: 4', 'face A:6 face B: 5', 'face A:6 face B: 6']\n"
     ]
    }
   ],
   "source": [
    "list_dominos=[]\n",
    "for i in range(7):\n",
    "    d=Domino(6,i)\n",
    "    list_dominos.append(d.affiche_points())\n",
    "print(list_dominos)"
   ]
  },
  {
   "cell_type": "code",
   "execution_count": 7,
   "id": "ac0eb45f",
   "metadata": {},
   "outputs": [],
   "source": [
    "class Compte_bancaire():\n",
    "    def __init__(self,name):\n",
    "        self.solde=0\n",
    "        self.name=name\n",
    "    def depot(self,somme):\n",
    "        self.solde=self.solde+somme\n",
    "        print(f'depot:{self.solde}')\n",
    "    def retrait(self,somme):\n",
    "        self.solde=self.solde-somme\n",
    "    def affiche(self):\n",
    "        print(f'name:{self.name} solde:{self.solde}')\n",
    "    "
   ]
  },
  {
   "cell_type": "code",
   "execution_count": 8,
   "id": "546b54b0",
   "metadata": {},
   "outputs": [
    {
     "name": "stdin",
     "output_type": "stream",
     "text": [
      "enter your name valdez\n"
     ]
    },
    {
     "name": "stdout",
     "output_type": "stream",
     "text": [
      "depot:200\n"
     ]
    }
   ],
   "source": [
    "name=input(\"enter your name:\")\n",
    "compte1=Compte_bancaire(name)\n",
    "compte1.depot(200)"
   ]
  },
  {
   "cell_type": "code",
   "execution_count": 9,
   "id": "19f50422-09f7-4e78-86d5-8e69956cb595",
   "metadata": {},
   "outputs": [
    {
     "name": "stdout",
     "output_type": "stream",
     "text": [
      "name:valdez solde:200\n"
     ]
    }
   ],
   "source": [
    "compte1.affiche()"
   ]
  },
  {
   "cell_type": "code",
   "execution_count": 23,
   "id": "376b3d4a-29d4-48aa-a702-9775b7726c4a",
   "metadata": {},
   "outputs": [],
   "source": [
    "#12.3\n",
    "class voiture():   \n",
    "    def __init__(self,marque='ford',couleur='rouge'):\n",
    "        self.marque=marque\n",
    "        self.couleur=couleur\n",
    "        self.pilote='personne'\n",
    "        self.vitesse=0\n",
    "    def choix_conduteur(self,nom):\n",
    "       self.pilote=nom\n",
    "       return self.pilot\n",
    "    def accelerer(taux,duree):\n",
    "        self.vitesse=taux*duree\n",
    "        return self.vitesse\n",
    "    def affiche_tout(self):\n",
    "        print(f'marque:{self.marque},\\n couleur:{self.couleur},\\n pilote:{self.pilote}, \\n vitesse:{self.vitesse}')\n",
    "        \n",
    "        \n",
    "    "
   ]
  },
  {
   "cell_type": "code",
   "execution_count": 26,
   "id": "767e18d9-f31a-4466-a77c-41589ccf2140",
   "metadata": {},
   "outputs": [
    {
     "name": "stdout",
     "output_type": "stream",
     "text": [
      "marque:wolfswagen,\n",
      " couleur:noir,\n",
      " pilote:personne, \n",
      " vitesse:0\n"
     ]
    }
   ],
   "source": [
    "a1=voiture(marque='wolfswagen',couleur='noir')\n",
    "a1.affiche_tout()"
   ]
  },
  {
   "cell_type": "code",
   "execution_count": 31,
   "id": "7472e222-b3c8-4759-9142-c0ca2a45170a",
   "metadata": {},
   "outputs": [],
   "source": [
    "class satellite():\n",
    "    def __init__(self,masse=100,vitesse=0):\n",
    "        self.masse=masse\n",
    "        self.vitesse=vitesse\n",
    "        self.nom=''\n",
    "    def impulsion(self,force,duree):\n",
    "        self.force=force\n",
    "        self.duree=duree\n",
    "        F=self.force\n",
    "        t=self.duree\n",
    "        m=self.masse\n",
    "        self.acc=F*t/m\n",
    "        return self.acc\n",
    "    def affiche_vitesse(self):\n",
    "        nom=self.nom\n",
    "        vitesse=self.vitesse\n",
    "        print(f'nom:{nom},\\n vitesse:{vitesse}')"
   ]
  },
  {
   "cell_type": "code",
   "execution_count": 32,
   "id": "bd31791d-8414-4200-87e5-8c29f4a8c061",
   "metadata": {},
   "outputs": [
    {
     "name": "stdout",
     "output_type": "stream",
     "text": [
      "nom:,\n",
      " vitesse:0\n"
     ]
    }
   ],
   "source": [
    "sat1=satellite()\n",
    "sat1.affiche_vitesse()"
   ]
  },
  {
   "cell_type": "code",
   "execution_count": null,
   "id": "7cac2098-32aa-4667-a494-3f3015895a80",
   "metadata": {},
   "outputs": [],
   "source": []
  }
 ],
 "metadata": {
  "kernelspec": {
   "display_name": "Python 3 (ipykernel)",
   "language": "python",
   "name": "python3"
  },
  "language_info": {
   "codemirror_mode": {
    "name": "ipython",
    "version": 3
   },
   "file_extension": ".py",
   "mimetype": "text/x-python",
   "name": "python",
   "nbconvert_exporter": "python",
   "pygments_lexer": "ipython3",
   "version": "3.12.2"
  }
 },
 "nbformat": 4,
 "nbformat_minor": 5
}
