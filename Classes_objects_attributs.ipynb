{
 "cells": [
  {
   "cell_type": "code",
   "execution_count": 6,
   "id": "573a379f-b257-4682-8a91-1541170dfb0e",
   "metadata": {},
   "outputs": [],
   "source": [
    "class Domino():\n",
    "    def __init__(self,A,B):\n",
    "        self.A=A\n",
    "        self.B=B\n",
    "    def affiche_points(self):\n",
    "        return f'face A:{self.A} face B: {self.B}'\n",
    "    def valeur(self):\n",
    "        valeur=self.A+self.B\n",
    "        return valeur"
   ]
  },
  {
   "cell_type": "code",
   "execution_count": 7,
   "id": "23822c3a",
   "metadata": {},
   "outputs": [],
   "source": [
    "d1=Domino(2,6)\n",
    "d2=Domino(4,3)"
   ]
  },
  {
   "cell_type": "code",
   "execution_count": null,
   "id": "f0544d8c",
   "metadata": {},
   "outputs": [
    {
     "data": {
      "text/plain": [
       "'face A:4 face B: 3'"
      ]
     },
     "execution_count": 9,
     "metadata": {},
     "output_type": "execute_result"
    }
   ],
   "source": [
    "d1.affiche_points()"
   ]
  },
  {
   "cell_type": "code",
   "execution_count": 10,
   "id": "ba7ef058",
   "metadata": {},
   "outputs": [
    {
     "data": {
      "text/plain": [
       "'face A:4 face B: 3'"
      ]
     },
     "execution_count": 10,
     "metadata": {},
     "output_type": "execute_result"
    }
   ],
   "source": [
    "d2.affiche_points()"
   ]
  },
  {
   "cell_type": "code",
   "execution_count": 11,
   "id": "1f62db10",
   "metadata": {},
   "outputs": [
    {
     "name": "stdout",
     "output_type": "stream",
     "text": [
      "total des point:15\n"
     ]
    }
   ],
   "source": [
    "print (f'total des point:{d1.valeur()+d2.valeur()}')"
   ]
  },
  {
   "cell_type": "code",
   "execution_count": null,
   "id": "9a760c60",
   "metadata": {},
   "outputs": [
    {
     "name": "stdout",
     "output_type": "stream",
     "text": [
      "[<__main__.Domino object at 0x000002B7D8978470>, <__main__.Domino object at 0x000002B7DA420D70>, <__main__.Domino object at 0x000002B7DA4214C0>, <__main__.Domino object at 0x000002B7DA421E20>, <__main__.Domino object at 0x000002B7DA4210D0>, <__main__.Domino object at 0x000002B7DA421310>, <__main__.Domino object at 0x000002B7DA421940>]\n"
     ]
    }
   ],
   "source": [
    "list_dominos=[]\n",
    "for i in range(7):\n",
    "    d=Domino(6,i)\n",
    "    list_dominos.append(d.affiche_points())\n",
    "print(list_dominos)"
   ]
  }
 ],
 "metadata": {
  "kernelspec": {
   "display_name": "Python 3",
   "language": "python",
   "name": "python3"
  },
  "language_info": {
   "codemirror_mode": {
    "name": "ipython",
    "version": 3
   },
   "file_extension": ".py",
   "mimetype": "text/x-python",
   "name": "python",
   "nbconvert_exporter": "python",
   "pygments_lexer": "ipython3",
   "version": "3.12.2"
  }
 },
 "nbformat": 4,
 "nbformat_minor": 5
}
