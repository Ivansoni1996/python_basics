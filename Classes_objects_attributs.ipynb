{
 "cells": [
  {
   "cell_type": "code",
   "execution_count": 1,
   "id": "573a379f-b257-4682-8a91-1541170dfb0e",
   "metadata": {},
   "outputs": [],
   "source": [
    "class Domino():\n",
    "    def __init__(self,A,B):\n",
    "        self.A=A\n",
    "        self.B=B\n",
    "    def affiche_points(self):\n",
    "        return f'face A:{self.A} face B: {self.B}'\n",
    "    def valeur(self):\n",
    "        valeur=self.A+self.B\n",
    "        return valeur"
   ]
  },
  {
   "cell_type": "code",
   "execution_count": 2,
   "id": "23822c3a",
   "metadata": {},
   "outputs": [],
   "source": [
    "d1=Domino(2,6)\n",
    "d2=Domino(4,3)"
   ]
  },
  {
   "cell_type": "code",
   "execution_count": 3,
   "id": "f0544d8c",
   "metadata": {},
   "outputs": [
    {
     "data": {
      "text/plain": [
       "'face A:2 face B: 6'"
      ]
     },
     "execution_count": 3,
     "metadata": {},
     "output_type": "execute_result"
    }
   ],
   "source": [
    "d1.affiche_points()"
   ]
  },
  {
   "cell_type": "code",
   "execution_count": 4,
   "id": "ba7ef058",
   "metadata": {},
   "outputs": [
    {
     "data": {
      "text/plain": [
       "'face A:4 face B: 3'"
      ]
     },
     "execution_count": 4,
     "metadata": {},
     "output_type": "execute_result"
    }
   ],
   "source": [
    "d2.affiche_points()"
   ]
  },
  {
   "cell_type": "code",
   "execution_count": 5,
   "id": "1f62db10",
   "metadata": {},
   "outputs": [
    {
     "name": "stdout",
     "output_type": "stream",
     "text": [
      "total des point:15\n"
     ]
    }
   ],
   "source": [
    "print (f'total des point:{d1.valeur()+d2.valeur()}')"
   ]
  },
  {
   "cell_type": "code",
   "execution_count": 6,
   "id": "9a760c60",
   "metadata": {},
   "outputs": [
    {
     "name": "stdout",
     "output_type": "stream",
     "text": [
      "['face A:6 face B: 0', 'face A:6 face B: 1', 'face A:6 face B: 2', 'face A:6 face B: 3', 'face A:6 face B: 4', 'face A:6 face B: 5', 'face A:6 face B: 6']\n"
     ]
    }
   ],
   "source": [
    "list_dominos=[]\n",
    "for i in range(7):\n",
    "    d=Domino(6,i)\n",
    "    list_dominos.append(d.affiche_points())\n",
    "print(list_dominos)"
   ]
  },
  {
   "cell_type": "code",
   "execution_count": 7,
   "id": "ac0eb45f",
   "metadata": {},
   "outputs": [],
   "source": [
    "class Compte_bancaire():\n",
    "    def __init__(self,name):\n",
    "        self.solde=0\n",
    "        self.name=name\n",
    "    def depot(self,somme):\n",
    "        self.solde=self.solde+somme\n",
    "        print(f'depot:{self.solde}')\n",
    "    def retrait(self,somme):\n",
    "        self.solde=self.solde-somme\n",
    "    def affiche(self):\n",
    "        return f'name:{self.name} solde:{self.solde}'\n",
    "    "
   ]
  },
  {
   "cell_type": "code",
   "execution_count": null,
   "id": "3224a83b",
   "metadata": {},
   "outputs": [],
   "source": [
    "name=input(\"enter your name:\")\n",
    "compte1=Compte_bancaire(name)\n",
    "compte1.depot(200)"
   ]
  }
 ],
 "metadata": {
  "kernelspec": {
   "display_name": "Python 3",
   "language": "python",
   "name": "python3"
  },
  "language_info": {
   "codemirror_mode": {
    "name": "ipython",
    "version": 3
   },
   "file_extension": ".py",
   "mimetype": "text/x-python",
   "name": "python",
   "nbconvert_exporter": "python",
   "pygments_lexer": "ipython3",
   "version": "3.12.2"
  }
 },
 "nbformat": 4,
 "nbformat_minor": 5
}
